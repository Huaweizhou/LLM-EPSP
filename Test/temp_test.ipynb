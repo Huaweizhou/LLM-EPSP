{
 "cells": [
  {
   "cell_type": "code",
   "execution_count": 1,
   "metadata": {},
   "outputs": [],
   "source": [
    "import os\n",
    "import time\n",
    "import numpy as np\n",
    "import pandas as pd\n",
    "import seaborn as sns\n",
    "from zhipuai import ZhipuAI\n",
    "import matplotlib.pyplot as plt\n",
    "from astropy.table import Table\n",
    "from sklearn.model_selection import train_test_split,GridSearchCV\n",
    "from sklearn.metrics import confusion_matrix, roc_curve, roc_auc_score, classification_report, mean_squared_error\n",
    "\n",
    "DATA_PATH = \"student-data.csv\"\n",
    "DATA_PATH_TEST = \"student-data-test.csv\"\n",
    "\n",
    "IN_COLS = [\n",
    "    \"school\",\"sex\",\"age\",\"address\",\"famsize\",\"Pstatus\",\"Medu\",\"Fedu\",\"Mjob\",\\\n",
    "    \"Fjob\",\"reason\",\"guardian\",\"traveltime\",\"studytime\",\"failures\",\"schoolsup\",\\\n",
    "    \"famsup\",\"paid\",\"activities\",\"nursery\",\"higher\",\"internet\",\"romantic\",\"famrel\",\\\n",
    "    \"freetime\",\"goout\",\"Dalc\",\"Walc\",\"health\",\"absences\",\"passedsex\",\"age\",\"address\",\\\n",
    "    \"famsize\",\"Pstatus\",\"Medu\",\"Fedu\",\"Mjob\",\"Fjob\",\"reason\",\"guardian\",\"traveltime\",\\\n",
    "    \"studytime\",\"failures\",\"schoolsup\",\"famsup\",\"paid\",\"activities\",\"nursery\",\"higher\",\\\n",
    "    \"internet\",\"romantic\",\"famrel\",\"freetime\",\"goout\",\"Dalc\",\"Walc\",\"health\",\"absences\",\"passed\"\n",
    "]\n"
   ]
  },
  {
   "cell_type": "code",
   "execution_count": 6,
   "metadata": {},
   "outputs": [],
   "source": [
    "df_test_all = pd.read_csv(DATA_PATH_TEST)\n",
    "df_test_all_select = df_test_all[[\"failures\",\"goout\",\"higher\",\"age\",\"Medu\",\"Fedu\",\"studytime\",\"paid\",\"schoolsup\",\"passed\"]]\n",
    "x_test = df_test_all.drop(columns=['passed'])\n",
    "y_test = df_test_all['passed']\n",
    "df_x_select = x_test[[\"failures\",\"goout\",\"higher\",\"age\",\"Medu\",\"Fedu\",\"studytime\",\"paid\",\"schoolsup\"]]\n",
    "assert not df_x_select.isnull().values.any()\n",
    "x_test_instance = df_x_select.to_dict(orient='records')"
   ]
  },
  {
   "cell_type": "code",
   "execution_count": 7,
   "metadata": {},
   "outputs": [
    {
     "name": "stdout",
     "output_type": "stream",
     "text": [
      "    failures  goout higher  age  Medu  Fedu  studytime paid schoolsup passed\n",
      "0          3      1     no   17     2     1          1   no       yes    yes\n",
      "1          0      3     no   18     1     2          1  yes        no    yes\n",
      "2          1      3    yes   18     3     3          2   no        no     no\n",
      "3          0      4    yes   16     2     1          2  yes        no    yes\n",
      "4          2      4    yes   20     2     2          2  yes        no     no\n",
      "..       ...    ...    ...  ...   ...   ...        ...  ...       ...    ...\n",
      "74         0      2    yes   17     1     2          2   no        no    yes\n",
      "75         0      4    yes   15     3     2          2  yes        no     no\n",
      "76         0      2    yes   15     2     1          2   no        no     no\n",
      "77         0      2    yes   15     4     2          3  yes        no    yes\n",
      "78         3      5    yes   17     3     2          1   no        no     no\n",
      "\n",
      "[79 rows x 10 columns]\n"
     ]
    }
   ],
   "source": [
    "print(df_test_all_select)"
   ]
  }
 ],
 "metadata": {
  "kernelspec": {
   "display_name": "py3.10",
   "language": "python",
   "name": "python3"
  },
  "language_info": {
   "codemirror_mode": {
    "name": "ipython",
    "version": 3
   },
   "file_extension": ".py",
   "mimetype": "text/x-python",
   "name": "python",
   "nbconvert_exporter": "python",
   "pygments_lexer": "ipython3",
   "version": "3.10.13"
  }
 },
 "nbformat": 4,
 "nbformat_minor": 2
}
